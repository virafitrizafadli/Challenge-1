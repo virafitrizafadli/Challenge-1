{
 "cells": [
  {
   "cell_type": "code",
   "execution_count": 1,
   "metadata": {},
   "outputs": [],
   "source": [
    "import pandas as pd\n",
    "import numpy as np\n",
    "import seaborn as sns\n",
    "import matplotlib.pyplot as plt\n",
    "%matplotlib inline"
   ]
  },
  {
   "cell_type": "code",
   "execution_count": 2,
   "metadata": {},
   "outputs": [],
   "source": [
    "q1_18 = pd.read_csv('Toronto Bikeshare/Bike Share Toronto Ridership_Q1 2018.csv')\n",
    "q2_18 = pd.read_csv('Toronto Bikeshare/Bike Share Toronto Ridership_Q2 2018.csv')"
   ]
  },
  {
   "cell_type": "markdown",
   "metadata": {},
   "source": [
    "Data yang akan digunakan yaitu gabungan Bike Share Toronto Ridership_Q1 2018 dan Bike Share Toronto Ridership_Q2 2018"
   ]
  },
  {
   "cell_type": "code",
   "execution_count": 3,
   "metadata": {},
   "outputs": [
    {
     "data": {
      "text/html": [
       "<div>\n",
       "<style scoped>\n",
       "    .dataframe tbody tr th:only-of-type {\n",
       "        vertical-align: middle;\n",
       "    }\n",
       "\n",
       "    .dataframe tbody tr th {\n",
       "        vertical-align: top;\n",
       "    }\n",
       "\n",
       "    .dataframe thead th {\n",
       "        text-align: right;\n",
       "    }\n",
       "</style>\n",
       "<table border=\"1\" class=\"dataframe\">\n",
       "  <thead>\n",
       "    <tr style=\"text-align: right;\">\n",
       "      <th></th>\n",
       "      <th>trip_id</th>\n",
       "      <th>trip_duration_seconds</th>\n",
       "      <th>from_station_id</th>\n",
       "      <th>trip_start_time</th>\n",
       "      <th>from_station_name</th>\n",
       "      <th>trip_stop_time</th>\n",
       "      <th>to_station_id</th>\n",
       "      <th>to_station_name</th>\n",
       "      <th>user_type</th>\n",
       "    </tr>\n",
       "  </thead>\n",
       "  <tbody>\n",
       "    <tr>\n",
       "      <td>0</td>\n",
       "      <td>2383648</td>\n",
       "      <td>393</td>\n",
       "      <td>7018</td>\n",
       "      <td>1/1/2018 0:47</td>\n",
       "      <td>Bremner Blvd / Rees St</td>\n",
       "      <td>1/1/2018 0:54</td>\n",
       "      <td>7176</td>\n",
       "      <td>Bathurst St / Fort York Blvd</td>\n",
       "      <td>Annual Member</td>\n",
       "    </tr>\n",
       "    <tr>\n",
       "      <td>1</td>\n",
       "      <td>2383649</td>\n",
       "      <td>625</td>\n",
       "      <td>7184</td>\n",
       "      <td>1/1/2018 0:52</td>\n",
       "      <td>Ossington Ave / College St</td>\n",
       "      <td>1/1/2018 1:03</td>\n",
       "      <td>7191</td>\n",
       "      <td>Central Tech  (Harbord St)</td>\n",
       "      <td>Annual Member</td>\n",
       "    </tr>\n",
       "    <tr>\n",
       "      <td>2</td>\n",
       "      <td>2383650</td>\n",
       "      <td>233</td>\n",
       "      <td>7235</td>\n",
       "      <td>1/1/2018 0:55</td>\n",
       "      <td>Bay St / College St (West Side) - SMART</td>\n",
       "      <td>1/1/2018 0:59</td>\n",
       "      <td>7021</td>\n",
       "      <td>Bay St / Albert St</td>\n",
       "      <td>Annual Member</td>\n",
       "    </tr>\n",
       "    <tr>\n",
       "      <td>3</td>\n",
       "      <td>2383651</td>\n",
       "      <td>1138</td>\n",
       "      <td>7202</td>\n",
       "      <td>1/1/2018 0:57</td>\n",
       "      <td>Queen St W / York St (City Hall)</td>\n",
       "      <td>1/1/2018 1:16</td>\n",
       "      <td>7020</td>\n",
       "      <td>Phoebe St / Spadina Ave</td>\n",
       "      <td>Annual Member</td>\n",
       "    </tr>\n",
       "    <tr>\n",
       "      <td>4</td>\n",
       "      <td>2383652</td>\n",
       "      <td>703</td>\n",
       "      <td>7004</td>\n",
       "      <td>1/1/2018 1:00</td>\n",
       "      <td>University Ave / Elm St</td>\n",
       "      <td>1/1/2018 1:12</td>\n",
       "      <td>7060</td>\n",
       "      <td>Princess St / Adelaide St E</td>\n",
       "      <td>Annual Member</td>\n",
       "    </tr>\n",
       "  </tbody>\n",
       "</table>\n",
       "</div>"
      ],
      "text/plain": [
       "   trip_id  trip_duration_seconds  from_station_id trip_start_time  \\\n",
       "0  2383648                    393             7018   1/1/2018 0:47   \n",
       "1  2383649                    625             7184   1/1/2018 0:52   \n",
       "2  2383650                    233             7235   1/1/2018 0:55   \n",
       "3  2383651                   1138             7202   1/1/2018 0:57   \n",
       "4  2383652                    703             7004   1/1/2018 1:00   \n",
       "\n",
       "                         from_station_name trip_stop_time  to_station_id  \\\n",
       "0                   Bremner Blvd / Rees St  1/1/2018 0:54           7176   \n",
       "1               Ossington Ave / College St  1/1/2018 1:03           7191   \n",
       "2  Bay St / College St (West Side) - SMART  1/1/2018 0:59           7021   \n",
       "3         Queen St W / York St (City Hall)  1/1/2018 1:16           7020   \n",
       "4                  University Ave / Elm St  1/1/2018 1:12           7060   \n",
       "\n",
       "                to_station_name      user_type  \n",
       "0  Bathurst St / Fort York Blvd  Annual Member  \n",
       "1    Central Tech  (Harbord St)  Annual Member  \n",
       "2            Bay St / Albert St  Annual Member  \n",
       "3       Phoebe St / Spadina Ave  Annual Member  \n",
       "4   Princess St / Adelaide St E  Annual Member  "
      ]
     },
     "execution_count": 3,
     "metadata": {},
     "output_type": "execute_result"
    }
   ],
   "source": [
    "toronto = [q1_18, q2_18]\n",
    "df = pd.concat(toronto)\n",
    "df.head()"
   ]
  },
  {
   "cell_type": "code",
   "execution_count": 4,
   "metadata": {},
   "outputs": [
    {
     "data": {
      "text/plain": [
       "(736929, 9)"
      ]
     },
     "execution_count": 4,
     "metadata": {},
     "output_type": "execute_result"
    }
   ],
   "source": [
    "df.shape"
   ]
  },
  {
   "cell_type": "code",
   "execution_count": 5,
   "metadata": {},
   "outputs": [
    {
     "name": "stdout",
     "output_type": "stream",
     "text": [
      "<class 'pandas.core.frame.DataFrame'>\n",
      "Int64Index: 736929 entries, 0 to 558369\n",
      "Data columns (total 9 columns):\n",
      "trip_id                  736929 non-null int64\n",
      "trip_duration_seconds    736929 non-null int64\n",
      "from_station_id          736929 non-null int64\n",
      "trip_start_time          736929 non-null object\n",
      "from_station_name        736929 non-null object\n",
      "trip_stop_time           736929 non-null object\n",
      "to_station_id            736929 non-null int64\n",
      "to_station_name          736929 non-null object\n",
      "user_type                736929 non-null object\n",
      "dtypes: int64(4), object(5)\n",
      "memory usage: 56.2+ MB\n"
     ]
    }
   ],
   "source": [
    "df.info()"
   ]
  },
  {
   "cell_type": "code",
   "execution_count": 6,
   "metadata": {},
   "outputs": [
    {
     "data": {
      "text/plain": [
       "trip_id                  0\n",
       "trip_duration_seconds    0\n",
       "from_station_id          0\n",
       "trip_start_time          0\n",
       "from_station_name        0\n",
       "trip_stop_time           0\n",
       "to_station_id            0\n",
       "to_station_name          0\n",
       "user_type                0\n",
       "dtype: int64"
      ]
     },
     "execution_count": 6,
     "metadata": {},
     "output_type": "execute_result"
    }
   ],
   "source": [
    "df.isnull().sum()"
   ]
  },
  {
   "cell_type": "code",
   "execution_count": 7,
   "metadata": {},
   "outputs": [
    {
     "data": {
      "text/html": [
       "<div>\n",
       "<style scoped>\n",
       "    .dataframe tbody tr th:only-of-type {\n",
       "        vertical-align: middle;\n",
       "    }\n",
       "\n",
       "    .dataframe tbody tr th {\n",
       "        vertical-align: top;\n",
       "    }\n",
       "\n",
       "    .dataframe thead th {\n",
       "        text-align: right;\n",
       "    }\n",
       "</style>\n",
       "<table border=\"1\" class=\"dataframe\">\n",
       "  <thead>\n",
       "    <tr style=\"text-align: right;\">\n",
       "      <th></th>\n",
       "      <th>trip_id</th>\n",
       "      <th>trip_duration_seconds</th>\n",
       "      <th>from_station_id</th>\n",
       "      <th>to_station_id</th>\n",
       "    </tr>\n",
       "  </thead>\n",
       "  <tbody>\n",
       "    <tr>\n",
       "      <td>count</td>\n",
       "      <td>7.369290e+05</td>\n",
       "      <td>736929.000000</td>\n",
       "      <td>736929.000000</td>\n",
       "      <td>736929.000000</td>\n",
       "    </tr>\n",
       "    <tr>\n",
       "      <td>mean</td>\n",
       "      <td>2.823652e+06</td>\n",
       "      <td>992.394981</td>\n",
       "      <td>7116.290854</td>\n",
       "      <td>7115.665775</td>\n",
       "    </tr>\n",
       "    <tr>\n",
       "      <td>std</td>\n",
       "      <td>2.461467e+05</td>\n",
       "      <td>1714.770271</td>\n",
       "      <td>89.597293</td>\n",
       "      <td>89.672428</td>\n",
       "    </tr>\n",
       "    <tr>\n",
       "      <td>min</td>\n",
       "      <td>2.383648e+06</td>\n",
       "      <td>60.000000</td>\n",
       "      <td>7000.000000</td>\n",
       "      <td>7000.000000</td>\n",
       "    </tr>\n",
       "    <tr>\n",
       "      <td>25%</td>\n",
       "      <td>2.611914e+06</td>\n",
       "      <td>420.000000</td>\n",
       "      <td>7038.000000</td>\n",
       "      <td>7038.000000</td>\n",
       "    </tr>\n",
       "    <tr>\n",
       "      <td>50%</td>\n",
       "      <td>2.827960e+06</td>\n",
       "      <td>662.000000</td>\n",
       "      <td>7092.000000</td>\n",
       "      <td>7089.000000</td>\n",
       "    </tr>\n",
       "    <tr>\n",
       "      <td>75%</td>\n",
       "      <td>3.036650e+06</td>\n",
       "      <td>1035.000000</td>\n",
       "      <td>7192.000000</td>\n",
       "      <td>7192.000000</td>\n",
       "    </tr>\n",
       "    <tr>\n",
       "      <td>max</td>\n",
       "      <td>3.244395e+06</td>\n",
       "      <td>55077.000000</td>\n",
       "      <td>7324.000000</td>\n",
       "      <td>7324.000000</td>\n",
       "    </tr>\n",
       "  </tbody>\n",
       "</table>\n",
       "</div>"
      ],
      "text/plain": [
       "            trip_id  trip_duration_seconds  from_station_id  to_station_id\n",
       "count  7.369290e+05          736929.000000    736929.000000  736929.000000\n",
       "mean   2.823652e+06             992.394981      7116.290854    7115.665775\n",
       "std    2.461467e+05            1714.770271        89.597293      89.672428\n",
       "min    2.383648e+06              60.000000      7000.000000    7000.000000\n",
       "25%    2.611914e+06             420.000000      7038.000000    7038.000000\n",
       "50%    2.827960e+06             662.000000      7092.000000    7089.000000\n",
       "75%    3.036650e+06            1035.000000      7192.000000    7192.000000\n",
       "max    3.244395e+06           55077.000000      7324.000000    7324.000000"
      ]
     },
     "execution_count": 7,
     "metadata": {},
     "output_type": "execute_result"
    }
   ],
   "source": [
    "df.describe()"
   ]
  },
  {
   "cell_type": "code",
   "execution_count": 8,
   "metadata": {},
   "outputs": [
    {
     "data": {
      "text/plain": [
       "Annual Member    597955\n",
       "Casual Member    138974\n",
       "Name: user_type, dtype: int64"
      ]
     },
     "execution_count": 8,
     "metadata": {},
     "output_type": "execute_result"
    }
   ],
   "source": [
    "df['user_type'].value_counts()"
   ]
  },
  {
   "cell_type": "code",
   "execution_count": 9,
   "metadata": {},
   "outputs": [
    {
     "data": {
      "text/plain": [
       "<matplotlib.axes._subplots.AxesSubplot at 0x1e8c3c56ec8>"
      ]
     },
     "execution_count": 9,
     "metadata": {},
     "output_type": "execute_result"
    },
    {
     "data": {
      "image/png": "[encoded data removed]",
      "text/plain": [
       "<Figure size 432x288 with 1 Axes>"
      ]
     },
     "metadata": {
      "needs_background": "light"
     },
     "output_type": "display_data"
    }
   ],
   "source": [
    "sns.countplot(x='user_type',data=df)"
   ]
  },
  {
   "cell_type": "markdown",
   "metadata": {},
   "source": [
    "# Find out what percentage of bikes are returned to its initial location?"
   ]
  },
  {
   "cell_type": "code",
   "execution_count": 10,
   "metadata": {},
   "outputs": [],
   "source": [
    "df.loc[df['from_station_id']==df['to_station_id'],'returned']='return'\n",
    "df.loc[df['from_station_id']!=df['to_station_id'],'returned']='no_return'"
   ]
  },
  {
   "cell_type": "code",
   "execution_count": 11,
   "metadata": {},
   "outputs": [
    {
     "data": {
      "text/html": [
       "<div>\n",
       "<style scoped>\n",
       "    .dataframe tbody tr th:only-of-type {\n",
       "        vertical-align: middle;\n",
       "    }\n",
       "\n",
       "    .dataframe tbody tr th {\n",
       "        vertical-align: top;\n",
       "    }\n",
       "\n",
       "    .dataframe thead th {\n",
       "        text-align: right;\n",
       "    }\n",
       "</style>\n",
       "<table border=\"1\" class=\"dataframe\">\n",
       "  <thead>\n",
       "    <tr style=\"text-align: right;\">\n",
       "      <th></th>\n",
       "      <th>trip_id</th>\n",
       "      <th>trip_duration_seconds</th>\n",
       "      <th>from_station_id</th>\n",
       "      <th>trip_start_time</th>\n",
       "      <th>from_station_name</th>\n",
       "      <th>trip_stop_time</th>\n",
       "      <th>to_station_id</th>\n",
       "      <th>to_station_name</th>\n",
       "      <th>user_type</th>\n",
       "    </tr>\n",
       "    <tr>\n",
       "      <th>returned</th>\n",
       "      <th></th>\n",
       "      <th></th>\n",
       "      <th></th>\n",
       "      <th></th>\n",
       "      <th></th>\n",
       "      <th></th>\n",
       "      <th></th>\n",
       "      <th></th>\n",
       "      <th></th>\n",
       "    </tr>\n",
       "  </thead>\n",
       "  <tbody>\n",
       "    <tr>\n",
       "      <td>no_return</td>\n",
       "      <td>714751</td>\n",
       "      <td>714751</td>\n",
       "      <td>714751</td>\n",
       "      <td>714751</td>\n",
       "      <td>714751</td>\n",
       "      <td>714751</td>\n",
       "      <td>714751</td>\n",
       "      <td>714751</td>\n",
       "      <td>714751</td>\n",
       "    </tr>\n",
       "    <tr>\n",
       "      <td>return</td>\n",
       "      <td>22178</td>\n",
       "      <td>22178</td>\n",
       "      <td>22178</td>\n",
       "      <td>22178</td>\n",
       "      <td>22178</td>\n",
       "      <td>22178</td>\n",
       "      <td>22178</td>\n",
       "      <td>22178</td>\n",
       "      <td>22178</td>\n",
       "    </tr>\n",
       "  </tbody>\n",
       "</table>\n",
       "</div>"
      ],
      "text/plain": [
       "           trip_id  trip_duration_seconds  from_station_id  trip_start_time  \\\n",
       "returned                                                                      \n",
       "no_return   714751                 714751           714751           714751   \n",
       "return       22178                  22178            22178            22178   \n",
       "\n",
       "           from_station_name  trip_stop_time  to_station_id  to_station_name  \\\n",
       "returned                                                                       \n",
       "no_return             714751          714751         714751           714751   \n",
       "return                 22178           22178          22178            22178   \n",
       "\n",
       "           user_type  \n",
       "returned              \n",
       "no_return     714751  \n",
       "return         22178  "
      ]
     },
     "execution_count": 11,
     "metadata": {},
     "output_type": "execute_result"
    }
   ],
   "source": [
    "returning = df.groupby('returned').agg('count')\n",
    "returning"
   ]
  },
  {
   "cell_type": "code",
   "execution_count": 12,
   "metadata": {},
   "outputs": [
    {
     "data": {
      "text/plain": [
       "<matplotlib.axes._subplots.AxesSubplot at 0x1e8c3ebadc8>"
      ]
     },
     "execution_count": 12,
     "metadata": {},
     "output_type": "execute_result"
    },
    {
     "data": {
      "image/png": "[encoded data removed]",
      "text/plain": [
       "<Figure size 432x288 with 1 Axes>"
      ]
     },
     "metadata": {},
     "output_type": "display_data"
    }
   ],
   "source": [
    "returning['trip_id'].plot.pie(autopct='%0.f%%')"
   ]
  },
  {
   "cell_type": "markdown",
   "metadata": {},
   "source": [
    "Dari hasil analisis dapat diketahui bahwa hanya 3% sepeda yang dikembalikan ke lokasi awalnya"
   ]
  },
  {
   "cell_type": "markdown",
   "metadata": {},
   "source": [
    "# MACHINE LEARNING (Classification)"
   ]
  },
  {
   "cell_type": "markdown",
   "metadata": {},
   "source": [
    "### Feature set "
   ]
  },
  {
   "cell_type": "code",
   "execution_count": 13,
   "metadata": {},
   "outputs": [
    {
     "data": {
      "text/plain": [
       "array([[2383648,     393,    7018,    7176],\n",
       "       [2383649,     625,    7184,    7191],\n",
       "       [2383650,     233,    7235,    7021],\n",
       "       [2383651,    1138,    7202,    7020],\n",
       "       [2383652,     703,    7004,    7060]], dtype=int64)"
      ]
     },
     "execution_count": 13,
     "metadata": {},
     "output_type": "execute_result"
    }
   ],
   "source": [
    "X= df[['trip_id','trip_duration_seconds','from_station_id','to_station_id']].values\n",
    "X[0:5]"
   ]
  },
  {
   "cell_type": "code",
   "execution_count": 14,
   "metadata": {},
   "outputs": [
    {
     "data": {
      "text/plain": [
       "array(['Annual Member', 'Annual Member', 'Annual Member', 'Annual Member',\n",
       "       'Annual Member'], dtype=object)"
      ]
     },
     "execution_count": 14,
     "metadata": {},
     "output_type": "execute_result"
    }
   ],
   "source": [
    "y = df['user_type'].values\n",
    "y[0:5]"
   ]
  },
  {
   "cell_type": "markdown",
   "metadata": {},
   "source": [
    "### Decision Tree"
   ]
  },
  {
   "cell_type": "code",
   "execution_count": 15,
   "metadata": {},
   "outputs": [],
   "source": [
    "from sklearn.model_selection import train_test_split"
   ]
  },
  {
   "cell_type": "code",
   "execution_count": 16,
   "metadata": {},
   "outputs": [],
   "source": [
    "X_trainset, X_testset, y_trainset, y_testset = train_test_split(X, y, test_size=0.3, random_state=3)"
   ]
  },
  {
   "cell_type": "code",
   "execution_count": 17,
   "metadata": {},
   "outputs": [
    {
     "data": {
      "text/plain": [
       "DecisionTreeClassifier(class_weight=None, criterion='entropy', max_depth=4,\n",
       "                       max_features=None, max_leaf_nodes=None,\n",
       "                       min_impurity_decrease=0.0, min_impurity_split=None,\n",
       "                       min_samples_leaf=1, min_samples_split=2,\n",
       "                       min_weight_fraction_leaf=0.0, presort=False,\n",
       "                       random_state=None, splitter='best')"
      ]
     },
     "execution_count": 17,
     "metadata": {},
     "output_type": "execute_result"
    }
   ],
   "source": [
    "from sklearn.tree import DecisionTreeClassifier\n",
    "user = DecisionTreeClassifier(criterion=\"entropy\", max_depth = 4)\n",
    "user"
   ]
  },
  {
   "cell_type": "code",
   "execution_count": 19,
   "metadata": {},
   "outputs": [
    {
     "data": {
      "text/plain": [
       "DecisionTreeClassifier(class_weight=None, criterion='entropy', max_depth=4,\n",
       "                       max_features=None, max_leaf_nodes=None,\n",
       "                       min_impurity_decrease=0.0, min_impurity_split=None,\n",
       "                       min_samples_leaf=1, min_samples_split=2,\n",
       "                       min_weight_fraction_leaf=0.0, presort=False,\n",
       "                       random_state=None, splitter='best')"
      ]
     },
     "execution_count": 19,
     "metadata": {},
     "output_type": "execute_result"
    }
   ],
   "source": [
    "user.fit(X_trainset,y_trainset)"
   ]
  },
  {
   "cell_type": "markdown",
   "metadata": {},
   "source": [
    "### Prediction"
   ]
  },
  {
   "cell_type": "code",
   "execution_count": 20,
   "metadata": {},
   "outputs": [],
   "source": [
    "predTree = user.predict(X_testset)"
   ]
  },
  {
   "cell_type": "code",
   "execution_count": 21,
   "metadata": {},
   "outputs": [
    {
     "name": "stdout",
     "output_type": "stream",
     "text": [
      "['Annual Member' 'Annual Member' 'Annual Member' 'Annual Member'\n",
      " 'Annual Member']\n",
      "['Casual Member' 'Annual Member' 'Annual Member' 'Annual Member'\n",
      " 'Casual Member']\n"
     ]
    }
   ],
   "source": [
    "print (predTree [0:5])\n",
    "print (y_testset [0:5])"
   ]
  },
  {
   "cell_type": "markdown",
   "metadata": {},
   "source": [
    "### Evaluation "
   ]
  },
  {
   "cell_type": "code",
   "execution_count": 23,
   "metadata": {},
   "outputs": [
    {
     "name": "stdout",
     "output_type": "stream",
     "text": [
      "DecisionTrees's Accuracy:  0.8531565639432058\n"
     ]
    }
   ],
   "source": [
    "from sklearn import metrics\n",
    "import matplotlib.pyplot as plt\n",
    "print(\"DecisionTrees's Accuracy: \", metrics.accuracy_score(y_testset, predTree))"
   ]
  },
  {
   "cell_type": "code",
   "execution_count": 25,
   "metadata": {},
   "outputs": [],
   "source": [
    "from sklearn.metrics import classification_report, confusion_matrix"
   ]
  },
  {
   "cell_type": "code",
   "execution_count": 26,
   "metadata": {},
   "outputs": [
    {
     "data": {
      "text/plain": [
       "array([[174922,   4374],\n",
       "       [ 28090,  13693]], dtype=int64)"
      ]
     },
     "execution_count": 26,
     "metadata": {},
     "output_type": "execute_result"
    }
   ],
   "source": [
    "#confusion matrix\n",
    "confusion_matrix(y_testset, predTree)"
   ]
  },
  {
   "cell_type": "code",
   "execution_count": 27,
   "metadata": {},
   "outputs": [
    {
     "name": "stdout",
     "output_type": "stream",
     "text": [
      "               precision    recall  f1-score   support\n",
      "\n",
      "Annual Member       0.86      0.98      0.92    179296\n",
      "Casual Member       0.76      0.33      0.46     41783\n",
      "\n",
      "     accuracy                           0.85    221079\n",
      "    macro avg       0.81      0.65      0.69    221079\n",
      " weighted avg       0.84      0.85      0.83    221079\n",
      "\n"
     ]
    }
   ],
   "source": [
    "#classification report\n",
    "print(classification_report(y_testset,predTree))"
   ]
  },
  {
   "cell_type": "code",
   "execution_count": 28,
   "metadata": {},
   "outputs": [
    {
     "data": {
      "text/plain": [
       "85.31565639432058"
      ]
     },
     "execution_count": 28,
     "metadata": {},
     "output_type": "execute_result"
    }
   ],
   "source": [
    "from sklearn.metrics import accuracy_score\n",
    "score = accuracy_score(y_testset,predTree)*100\n",
    "score"
   ]
  }
 ],
 "metadata": {
  "kernelspec": {
   "display_name": "Python 3",
   "language": "python",
   "name": "python3"
  },
  "language_info": {
   "codemirror_mode": {
    "name": "ipython",
    "version": 3
   },
   "file_extension": ".py",
   "mimetype": "text/x-python",
   "name": "python",
   "nbconvert_exporter": "python",
   "pygments_lexer": "ipython3",
   "version": "3.7.4"
  }
 },
 "nbformat": 4,
 "nbformat_minor": 2
}
